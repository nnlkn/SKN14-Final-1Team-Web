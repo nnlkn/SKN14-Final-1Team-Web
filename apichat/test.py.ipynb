{
 "cells": [
  {
   "cell_type": "code",
   "id": "initial_id",
   "metadata": {
    "collapsed": true,
    "ExecuteTime": {
     "end_time": "2025-09-04T05:47:25.417041Z",
     "start_time": "2025-09-04T05:47:06.823773Z"
    }
   },
   "source": "from utils.main2 import run_langraph",
   "outputs": [
    {
     "name": "stderr",
     "output_type": "stream",
     "text": [
      "C:\\Users\\playdata\\Documents\\skn14_1team_f_web\\apichat\\utils\\retriever.py:31: LangChainDeprecationWarning: The class `Chroma` was deprecated in LangChain 0.2.9 and will be removed in 1.0. An updated version of the class exists in the :class:`~langchain-chroma package and should be used instead. To use it run `pip install -U :class:`~langchain-chroma` and import as `from :class:`~langchain_chroma import Chroma``.\n",
      "  vs = Chroma(\n"
     ]
    }
   ],
   "execution_count": 3
  },
  {
   "metadata": {
    "ExecuteTime": {
     "end_time": "2025-09-04T05:47:01.981989Z",
     "start_time": "2025-09-04T05:47:01.973893Z"
    }
   },
   "cell_type": "code",
   "source": [
    "dummy_history = [\n",
    "    {\"role\": \"user\", \"content\": \"구글 People API는 무엇인가요?\"},\n",
    "    {\"role\": \"assistant\",\n",
    "     \"content\": \"구글 People API는 구글 계정을 사용하는 사람들의 프로필 정보에 접근할 수 있는 API입니다. 이를 통해 사용자 연락처, 프로필 사진, 개인 정보 등을 조회할 수 있습니다.\"},\n",
    "    {\"role\": \"user\", \"content\": \"People API에서 연락처 정보를 조회하려면 어떻게 해야 하나요?\"},\n",
    "    {\"role\": \"assistant\",\n",
    "     \"content\": \"People API에서 연락처 정보를 조회하려면, 먼저 OAuth 2.0을 사용하여 인증하고, `people.connections.list` 메서드를 호출해야 합니다. 예를 들어, `https://people.googleapis.com/v1/people/me/connections?personFields=names,emailAddresses`와 같은 형식으로 요청을 보냅니다.\"},\n",
    "    {\"role\": \"user\", \"content\": \"firebase auth의 인증 설정에서 응답 형식은 어떻게 되나요?\"},\n",
    "    {\"role\": \"assistant\", \"content\": \"firebase의 인증 설정 응답은 JSON 형식으로 반환됩니다.\"}\n",
    "]"
   ],
   "id": "556cb1da5382d2e9",
   "outputs": [],
   "execution_count": 1
  },
  {
   "metadata": {
    "ExecuteTime": {
     "end_time": "2025-09-04T05:49:36.728698Z",
     "start_time": "2025-09-04T05:49:33.753252Z"
    }
   },
   "cell_type": "code",
   "source": "response = run_langraph('오늘 날씨 어때?', 'test1', dummy_history)",
   "id": "bbb2a482ee0ffa33",
   "outputs": [
    {
     "name": "stdout",
     "output_type": "stream",
     "text": [
      "생성된 질문 리스트 ['People API에서 연락처 정보를 조회한 후, 추가로 어떤 정보를 수정할 수 있나요?', 'Firebase Auth의 인증 설정에서 응답 형식에 대한 더 자세한 정보는 어디서 찾을 수 있나요?']\n",
      "People API에서 연락처 정보를 조회한 후, 추가로 어떤 정보를 수정할 수 있나요? 검색중...\n",
      "Firebase Auth의 인증 설정에서 응답 형식에 대한 더 자세한 정보는 어디서 찾을 수 있나요? 검색중...\n"
     ]
    }
   ],
   "execution_count": 6
  },
  {
   "metadata": {
    "ExecuteTime": {
     "end_time": "2025-09-04T05:49:39.388800Z",
     "start_time": "2025-09-04T05:49:39.383730Z"
    }
   },
   "cell_type": "code",
   "source": "print(response)",
   "id": "8b05417c43921606",
   "outputs": [
    {
     "name": "stdout",
     "output_type": "stream",
     "text": [
      "죄송하지만, 날씨에 대한 질문은 답변할 수 없습니다. 구글 API 문서와 관련된 질문이 있다면 도와드리겠습니다!\n"
     ]
    }
   ],
   "execution_count": 7
  }
 ],
 "metadata": {
  "kernelspec": {
   "display_name": "Python 3",
   "language": "python",
   "name": "python3"
  },
  "language_info": {
   "codemirror_mode": {
    "name": "ipython",
    "version": 2
   },
   "file_extension": ".py",
   "mimetype": "text/x-python",
   "name": "python",
   "nbconvert_exporter": "python",
   "pygments_lexer": "ipython2",
   "version": "2.7.6"
  }
 },
 "nbformat": 4,
 "nbformat_minor": 5
}
