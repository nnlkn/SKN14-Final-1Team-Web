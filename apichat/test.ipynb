{
 "cells": [
  {
   "cell_type": "code",
   "id": "initial_id",
   "metadata": {
    "collapsed": true,
    "ExecuteTime": {
     "end_time": "2025-09-04T07:19:17.335502Z",
     "start_time": "2025-09-04T07:18:48.641099Z"
    }
   },
   "source": "from utils.main2 import run_langraph",
   "outputs": [
    {
     "name": "stderr",
     "output_type": "stream",
     "text": [
      "C:\\Users\\playdata\\Documents\\skn14_1team_f_web\\apichat\\utils\\retriever.py:31: LangChainDeprecationWarning: The class `Chroma` was deprecated in LangChain 0.2.9 and will be removed in 1.0. An updated version of the class exists in the :class:`~langchain-chroma package and should be used instead. To use it run `pip install -U :class:`~langchain-chroma` and import as `from :class:`~langchain_chroma import Chroma``.\n",
      "  vs = Chroma(\n"
     ]
    }
   ],
   "execution_count": 1
  },
  {
   "metadata": {
    "ExecuteTime": {
     "end_time": "2025-09-04T07:19:17.363154Z",
     "start_time": "2025-09-04T07:19:17.351648Z"
    }
   },
   "cell_type": "code",
   "source": [
    "dummy_history = [\n",
    "    {\"role\": \"user\", \"content\": \"구글 People API는 무엇인가요?\"},\n",
    "    {\"role\": \"assistant\",\n",
    "     \"content\": \"구글 People API는 구글 계정을 사용하는 사람들의 프로필 정보에 접근할 수 있는 API입니다. 이를 통해 사용자 연락처, 프로필 사진, 개인 정보 등을 조회할 수 있습니다.\"},\n",
    "    {\"role\": \"user\", \"content\": \"firebase auth의 인증 설정에서 응답 형식은 어떻게 되나요?\"},\n",
    "    {\"role\": \"assistant\", \"content\": \"firebase의 인증 설정 응답은 JSON 형식으로 반환됩니다.\"}\n",
    "]"
   ],
   "id": "556cb1da5382d2e9",
   "outputs": [],
   "execution_count": 2
  },
  {
   "metadata": {
    "ExecuteTime": {
     "end_time": "2025-09-04T07:19:23.743612Z",
     "start_time": "2025-09-04T07:19:18.549210Z"
    }
   },
   "cell_type": "code",
   "source": "response = run_langraph('인증 수정 방법은?', 'test1', dummy_history)",
   "id": "bbb2a482ee0ffa33",
   "outputs": [
    {
     "name": "stdout",
     "output_type": "stream",
     "text": [
      "생성된 질문 리스트 ['Firebase Auth에서 인증 수정 방법은 무엇인가요?']\n",
      "Firebase Auth에서 인증 수정 방법은 무엇인가요? 검색중...\n"
     ]
    }
   ],
   "execution_count": 3
  },
  {
   "metadata": {
    "ExecuteTime": {
     "end_time": "2025-09-04T07:19:25.320275Z",
     "start_time": "2025-09-04T07:19:25.312658Z"
    }
   },
   "cell_type": "code",
   "source": "print(response)",
   "id": "8b05417c43921606",
   "outputs": [
    {
     "name": "stdout",
     "output_type": "stream",
     "text": [
      "Firebase 인증 상태 지속성을 수정하려면 `firebase.auth().setPersistence` 메서드를 호출하여 기존의 지속 유형을 지정하거나 수정할 수 있습니다. 예를 들어, 다음과 같이 사용할 수 있습니다:\n",
      "\n",
      "```javascript\n",
      "import { getAuth, setPersistence, browserSessionPersistence } from \"firebase/auth\";\n",
      "\n",
      "setPersistence(getAuth(), browserSessionPersistence)\n",
      "  .then(() => {\n",
      "    // 로그인 코드\n",
      "  });\n",
      "``` \n",
      "\n",
      "이 방법을 통해 인증 상태의 지속성을 설정할 수 있습니다.\n"
     ]
    }
   ],
   "execution_count": 4
  }
 ],
 "metadata": {
  "kernelspec": {
   "display_name": "Python 3",
   "language": "python",
   "name": "python3"
  },
  "language_info": {
   "codemirror_mode": {
    "name": "ipython",
    "version": 2
   },
   "file_extension": ".py",
   "mimetype": "text/x-python",
   "name": "python",
   "nbconvert_exporter": "python",
   "pygments_lexer": "ipython2",
   "version": "2.7.6"
  }
 },
 "nbformat": 4,
 "nbformat_minor": 5
}
